{
 "cells": [
  {
   "cell_type": "code",
   "execution_count": 29,
   "id": "62fa0777",
   "metadata": {},
   "outputs": [
    {
     "data": {
      "text/plain": [
       "array([[ 4.62702287, 50.57070014],\n",
       "       [ 5.13722428, 79.13994288],\n",
       "       [99.5689893 , 75.37791762],\n",
       "       [65.96099325, 71.92424071],\n",
       "       [44.14237967, 15.5340301 ],\n",
       "       [30.63745822, 99.6294729 ],\n",
       "       [16.8750898 , 84.07767461],\n",
       "       [25.73342725, 31.89946224],\n",
       "       [42.6894641 , 65.35467103],\n",
       "       [82.18796963, 71.40559362]])"
      ]
     },
     "execution_count": 29,
     "metadata": {},
     "output_type": "execute_result"
    }
   ],
   "source": [
    "import numpy as np\n",
    "\n",
    "from scipy.spatial import Delaunay\n",
    "\n",
    "points = np.random.uniform(0, 100, (10, 2))\n",
    "\n",
    "points\n",
    "\n"
   ]
  },
  {
   "cell_type": "code",
   "execution_count": 30,
   "id": "4db75794",
   "metadata": {},
   "outputs": [],
   "source": [
    "tri = Delaunay(points)\n",
    "\n",
    "def baricenter(points, tri):\n",
    "    return np.array([(points[a, :] + points[b, :] + points[c, :])/3 for a, b, c in tri.simplices])\n",
    "\n",
    "baricenters = baricenter(points, tri)\n",
    "    "
   ]
  },
  {
   "cell_type": "code",
   "execution_count": 31,
   "id": "68477649",
   "metadata": {},
   "outputs": [
    {
     "data": {
      "image/png": "[encoded data removed]",
      "text/plain": [
       "<Figure size 432x288 with 1 Axes>"
      ]
     },
     "metadata": {
      "needs_background": "light"
     },
     "output_type": "display_data"
    }
   ],
   "source": [
    "import matplotlib.pyplot as plt\n",
    "plt.triplot(points[:,0], points[:,1], tri.simplices)\n",
    "plt.plot(points[:,0], points[:,1], 'o')\n",
    "plt.plot(points[:,0], points[:,1], 'o')\n",
    "plt.plot(baricenters[:,0], baricenters[:,1], 'o')\n",
    "plt.show()"
   ]
  },
  {
   "cell_type": "code",
   "execution_count": 1,
   "id": "185db150",
   "metadata": {},
   "outputs": [],
   "source": [
    "import pandas as pd"
   ]
  },
  {
   "cell_type": "code",
   "execution_count": 49,
   "id": "5b421b2a",
   "metadata": {},
   "outputs": [],
   "source": [
    "dataframe = pd.read_csv('http://elib.zib.de/pub/mp-testdata/tsp/tsplib/tsp/a280.tsp')[5:-1].set_axis(['coor'], axis = 1)\n",
    "dataframe[['First', 'x', 'y']] = dataframe.coor.str.split(expand=True,)\n",
    "dataframe[['x', 'y']].to_csv('instancias_tsplib/a280.csv', index = False)"
   ]
  },
  {
   "cell_type": "code",
   "execution_count": 56,
   "id": "675300a3",
   "metadata": {},
   "outputs": [
    {
     "data": {
      "text/plain": [
       "[                           0                   1             2\n",
       " 0  Last update: June 1, 1995  Georg Skorobohatyj  ZIB Homepage]"
      ]
     },
     "execution_count": 56,
     "metadata": {},
     "output_type": "execute_result"
    }
   ],
   "source": [
    "pd.read_html('http://elib.zib.de/pub/mp-testdata/tsp/tsplib/tsp/index.html')"
   ]
  },
  {
   "cell_type": "code",
   "execution_count": 3,
   "id": "922675c2",
   "metadata": {},
   "outputs": [],
   "source": [
    "names = pd.read_table('./instancias_tsplib/instances.txt').set_axis(['Names'], axis = 1)\n",
    "names['Names'] = names.Names.str.split(expand=True,).iloc[:, 0]"
   ]
  },
  {
   "cell_type": "code",
   "execution_count": 6,
   "id": "39eca4f0",
   "metadata": {},
   "outputs": [
    {
     "name": "stdout",
     "output_type": "stream",
     "text": [
      "a280.tsp\n",
      "a280\n",
      "tsp\n",
      "ali535.tsp\n",
      "ali535\n",
      "tsp\n",
      "att48.tsp\n",
      "att48\n",
      "tsp\n",
      "att532.tsp\n",
      "att532\n",
      "tsp\n",
      "bayg29.tsp\n",
      "bayg29\n",
      "tsp\n",
      "No se puede\n",
      "bays29.tsp\n",
      "bays29\n",
      "tsp\n",
      "No se puede\n",
      "berlin52.tsp\n",
      "berlin52\n",
      "tsp\n",
      "bier127.tsp\n",
      "bier127\n",
      "tsp\n",
      "brazil58.tsp\n",
      "brazil58\n",
      "tsp\n",
      "No se puede\n",
      "brd14051.tsp\n",
      "brd14051\n",
      "tsp\n",
      "brg180.tsp\n",
      "brg180\n",
      "tsp\n",
      "No se puede\n",
      "burma14.tsp\n",
      "burma14\n",
      "tsp\n",
      "ch130.tsp\n",
      "ch130\n",
      "tsp\n",
      "ch150.tsp\n",
      "ch150\n",
      "tsp\n",
      "d1291.tsp\n",
      "d1291\n",
      "tsp\n",
      "d1655.tsp\n",
      "d1655\n",
      "tsp\n",
      "d18512.tsp\n",
      "d18512\n",
      "tsp\n",
      "d198.tsp\n",
      "d198\n",
      "tsp\n",
      "d2103.tsp\n",
      "d2103\n",
      "tsp\n",
      "d493.tsp\n",
      "d493\n",
      "tsp\n",
      "d657.tsp\n",
      "d657\n",
      "tsp\n",
      "dantzig42.tsp\n",
      "dantzig42\n",
      "tsp\n",
      "No se puede\n",
      "dsj1000.tsp\n",
      "dsj1000\n",
      "tsp\n",
      "eil101.tsp\n",
      "eil101\n",
      "tsp\n",
      "eil51.tsp\n",
      "eil51\n",
      "tsp\n",
      "eil76.tsp\n",
      "eil76\n",
      "tsp\n",
      "fl1400.tsp\n",
      "fl1400\n",
      "tsp\n",
      "fl1577.tsp\n",
      "fl1577\n",
      "tsp\n",
      "fl3795.tsp\n",
      "fl3795\n",
      "tsp\n",
      "fl417.tsp\n",
      "fl417\n",
      "tsp\n",
      "fnl4461.tsp\n",
      "fnl4461\n",
      "tsp\n",
      "fri26.tsp\n",
      "fri26\n",
      "tsp\n",
      "No se puede\n",
      "gil262.tsp\n",
      "gil262\n",
      "tsp\n",
      "gr120.tsp\n",
      "gr120\n",
      "tsp\n",
      "No se puede\n",
      "gr137.tsp\n",
      "gr137\n",
      "tsp\n",
      "gr17.tsp\n",
      "gr17\n",
      "tsp\n",
      "No se puede\n",
      "gr202.tsp\n",
      "gr202\n",
      "tsp\n",
      "gr21.tsp\n",
      "gr21\n",
      "tsp\n",
      "No se puede\n",
      "gr229.tsp\n",
      "gr229\n",
      "tsp\n",
      "gr24.tsp\n",
      "gr24\n",
      "tsp\n",
      "No se puede\n",
      "gr431.tsp\n",
      "gr431\n",
      "tsp\n",
      "gr48.tsp\n",
      "gr48\n",
      "tsp\n",
      "No se puede\n",
      "gr666.tsp\n",
      "gr666\n",
      "tsp\n",
      "gr96.tsp\n",
      "gr96\n",
      "tsp\n",
      "hk48.tsp\n",
      "hk48\n",
      "tsp\n",
      "No se puede\n",
      "kroa100.tsp\n",
      "kroa100\n",
      "tsp\n",
      "No se puede\n",
      "kroa150.tsp\n",
      "kroa150\n",
      "tsp\n",
      "No se puede\n",
      "kroa200.tsp\n",
      "kroa200\n",
      "tsp\n",
      "No se puede\n",
      "krob100.tsp\n",
      "krob100\n",
      "tsp\n",
      "No se puede\n",
      "krob150.tsp\n",
      "krob150\n",
      "tsp\n",
      "No se puede\n",
      "krob200.tsp\n",
      "krob200\n",
      "tsp\n",
      "No se puede\n",
      "kroc100.tsp\n",
      "kroc100\n",
      "tsp\n",
      "No se puede\n",
      "krod100.tsp\n",
      "krod100\n",
      "tsp\n",
      "No se puede\n",
      "kroe100.tsp\n",
      "kroe100\n",
      "tsp\n",
      "No se puede\n",
      "lin105.tsp\n",
      "lin105\n",
      "tsp\n",
      "lin318.tsp\n",
      "lin318\n",
      "tsp\n",
      "linhp318.tsp\n",
      "linhp318\n",
      "tsp\n",
      "nrw1379.tsp\n",
      "nrw1379\n",
      "tsp\n",
      "p654.tsp\n",
      "p654\n",
      "tsp\n",
      "pa561.tsp\n",
      "pa561\n",
      "tsp\n",
      "No se puede\n",
      "pcb1173.tsp\n",
      "pcb1173\n",
      "tsp\n",
      "pcb3038.tsp\n",
      "pcb3038\n",
      "tsp\n",
      "pcb442.tsp\n",
      "pcb442\n",
      "tsp\n",
      "pla33810.tsp\n",
      "pla33810\n",
      "tsp\n",
      "pla7397.tsp\n",
      "pla7397\n",
      "tsp\n",
      "pla85900.tsp\n",
      "pla85900\n",
      "tsp\n",
      "pr1002.tsp\n",
      "pr1002\n",
      "tsp\n",
      "pr107.tsp\n",
      "pr107\n",
      "tsp\n",
      "pr124.tsp\n",
      "pr124\n",
      "tsp\n",
      "pr136.tsp\n",
      "pr136\n",
      "tsp\n",
      "pr144.tsp\n",
      "pr144\n",
      "tsp\n",
      "pr152.tsp\n",
      "pr152\n",
      "tsp\n",
      "pr226.tsp\n",
      "pr226\n",
      "tsp\n",
      "pr2392.tsp\n",
      "pr2392\n",
      "tsp\n",
      "pr264.tsp\n",
      "pr264\n",
      "tsp\n",
      "pr299.tsp\n",
      "pr299\n",
      "tsp\n",
      "pr439.tsp\n",
      "pr439\n",
      "tsp\n",
      "pr76.tsp\n",
      "pr76\n",
      "tsp\n",
      "rat195.tsp\n",
      "rat195\n",
      "tsp\n",
      "rat575.tsp\n",
      "rat575\n",
      "tsp\n",
      "rat783.tsp\n",
      "rat783\n",
      "tsp\n",
      "rat99.tsp\n",
      "rat99\n",
      "tsp\n",
      "rd100.tsp\n",
      "rd100\n",
      "tsp\n",
      "rd400.tsp\n",
      "rd400\n",
      "tsp\n",
      "rl11849.tsp\n",
      "rl11849\n",
      "tsp\n",
      "rl1304.tsp\n",
      "rl1304\n",
      "tsp\n",
      "rl1323.tsp\n",
      "rl1323\n",
      "tsp\n",
      "rl1889.tsp\n",
      "rl1889\n",
      "tsp\n",
      "rl5915.tsp\n",
      "rl5915\n",
      "tsp\n",
      "rl5934.tsp\n",
      "rl5934\n",
      "tsp\n",
      "si1032.tsp\n",
      "si1032\n",
      "tsp\n",
      "No se puede\n",
      "si175.tsp\n",
      "si175\n",
      "tsp\n",
      "No se puede\n",
      "si535.tsp\n",
      "si535\n",
      "tsp\n",
      "No se puede\n",
      "st70.tsp\n",
      "st70\n",
      "tsp\n",
      "swiss42.tsp\n",
      "swiss42\n",
      "tsp\n",
      "No se puede\n",
      "ts225.tsp\n",
      "ts225\n",
      "tsp\n",
      "No se puede\n",
      "tsp225.tsp\n",
      "tsp225\n",
      "tsp\n",
      "u1060.tsp\n",
      "u1060\n",
      "tsp\n",
      "u1432.tsp\n",
      "u1432\n",
      "tsp\n",
      "u159.tsp\n",
      "u159\n",
      "tsp\n",
      "u1817.tsp\n",
      "u1817\n",
      "tsp\n",
      "u2152.tsp\n",
      "u2152\n",
      "tsp\n",
      "u2319.tsp\n",
      "u2319\n",
      "tsp\n",
      "u574.tsp\n",
      "u574\n",
      "tsp\n",
      "u724.tsp\n",
      "u724\n",
      "tsp\n",
      "ulysses16.tsp\n",
      "ulysses16\n",
      "tsp\n",
      "ulysses22.tsp\n",
      "ulysses22\n",
      "tsp\n",
      "usa13509.tsp\n",
      "usa13509\n",
      "tsp\n",
      "No se puede\n",
      "vm1084.tsp\n",
      "vm1084\n",
      "tsp\n",
      "vm1748.tsp\n",
      "vm1748\n",
      "tsp\n"
     ]
    }
   ],
   "source": [
    "# for nombre in list(names['Names']):\n",
    "#     print(nombre)\n",
    "#     a, b = nombre.split(\".\")\n",
    "#     print(a)\n",
    "#     print(b)\n",
    "#     try:\n",
    "#         dataframe = pd.read_csv('http://elib.zib.de/pub/mp-testdata/tsp/tsplib/tsp/' + str(nombre))[5:-1].set_axis(['coor'], axis = 1)\n",
    "#         dataframe[['First', 'x', 'y']] = dataframe.coor.str.split(expand=True,)\n",
    "#         dataframe[['x', 'y']].to_csv('instancias_tsplib/' + str(a) + '.csv', index = False)\n",
    "#     except:\n",
    "#         print(\"No se puede\")"
   ]
  },
  {
   "cell_type": "code",
   "execution_count": 10,
   "id": "05b2880c",
   "metadata": {},
   "outputs": [
    {
     "data": {
      "text/plain": [
       "<AxesSubplot:xlabel='x', ylabel='y'>"
      ]
     },
     "execution_count": 10,
     "metadata": {},
     "output_type": "execute_result"
    },
    {
     "data": {
      "image/png": "[encoded data removed]",
      "text/plain": [
       "<Figure size 432x288 with 1 Axes>"
      ]
     },
     "metadata": {
      "needs_background": "light"
     },
     "output_type": "display_data"
    }
   ],
   "source": [
    "pd.read_csv('instancias_tsplib/ulysses22.csv').plot.scatter(x = 'x', y = 'y')"
   ]
  },
  {
   "cell_type": "code",
   "execution_count": 11,
   "id": "9dd4d640",
   "metadata": {},
   "outputs": [
    {
     "data": {
      "text/plain": [
       "<AxesSubplot:xlabel='x', ylabel='y'>"
      ]
     },
     "execution_count": 11,
     "metadata": {},
     "output_type": "execute_result"
    },
    {
     "data": {
      "image/png": "[encoded data removed]",
      "text/plain": [
       "<Figure size 432x288 with 1 Axes>"
      ]
     },
     "metadata": {
      "needs_background": "light"
     },
     "output_type": "display_data"
    }
   ],
   "source": [
    "pd.read_csv('instancias_tsplib/ulysses16.csv').plot.scatter(x = 'x', y = 'y')"
   ]
  },
  {
   "cell_type": "code",
   "execution_count": 3,
   "id": "0910f39a",
   "metadata": {},
   "outputs": [],
   "source": [
    "from generador import interseccion_long, d_PB, genera_separacion, no_cortan, cortan\n",
    "import numpy as np\n",
    "import pandas as pd\n",
    "from neighborhood import Circle\n",
    "import matplotlib.pyplot as plt"
   ]
  },
  {
   "cell_type": "code",
   "execution_count": 8,
   "id": "94d6668f",
   "metadata": {},
   "outputs": [
    {
     "data": {
      "text/plain": [
       "-5.21"
      ]
     },
     "execution_count": 8,
     "metadata": {},
     "output_type": "execute_result"
    }
   ],
   "source": [
    "V = np.array(pd.read_csv('instancias_tsplib/ulysses16.csv'))\n",
    "V\n",
    "\n",
    "x_min, y_min = np.min(V, axis = 0)\n",
    "\n",
    "if x_min < 0:\n",
    "    "
   ]
  },
  {
   "cell_type": "code",
   "execution_count": 3,
   "id": "e634ad8c",
   "metadata": {},
   "outputs": [],
   "source": [
    "r_init = 1\n",
    "\n",
    "barreras = []\n",
    "for i in range(10):\n",
    "    # print(i)\n",
    "    for punto1 in V:\n",
    "        for punto2 in V:\n",
    "            if any(punto1 != punto2):\n",
    "                if all([no_cortan([punto1, punto2], barrera) for barrera in barreras]):\n",
    "                    r = r_init\n",
    "                    P1, P2 = genera_separacion(punto1, punto2, r)\n",
    "                    while any([not(no_cortan([P1, P2], barrera)) for barrera in barreras]):\n",
    "                        r = r / 2\n",
    "                        # print(r)\n",
    "                        P1, P2 = genera_separacion(punto1, punto2, r)\n",
    "                    barreras.append([P1, P2])"
   ]
  },
  {
   "cell_type": "code",
   "execution_count": 4,
   "id": "a3f6c26c",
   "metadata": {},
   "outputs": [
    {
     "data": {
      "text/plain": [
       "[[array([37.93089611, 23.5111009 ]), array([39.87910389, 23.0588991 ])],\n",
       " [array([36.443595  , 21.17863634]), array([38.056405  , 22.36136366])],\n",
       " [array([36.76089604, 15.04596507]), array([34.95910396, 15.91403493])],\n",
       " [array([38.89660397, 16.22265605]), array([36.90339603, 16.38734395])],\n",
       " [array([37.85223293, 19.43038558]), array([37.90776707, 21.42961442])],\n",
       " [array([40.7018418 , 15.01537606]), array([38.7681582 , 14.50462394])],\n",
       " [array([39.40902606, 20.78315021]), array([38.19097394, 19.19684979])],\n",
       " [array([40.70746567, 26.50131447]), array([39.42253433, 24.96868553])],\n",
       " [array([38.59021992, 23.89738352]), array([37.23978008, 25.37261648])],\n",
       " [array([40.47498592, 19.04236529]), array([38.50501408, 19.38763471])],\n",
       " [array([41.89414795, 17.25127183]), array([39.89585205, 17.16872817])],\n",
       " [array([40.93898042, 22.23604575]), array([38.98101958, 22.64395425])],\n",
       " [array([35.84644207, 16.61422027]), array([33.89355793, 17.04577973])],\n",
       " [array([35.14508617, 12.29205966]), array([35.89491383, 10.43794034])],\n",
       " [array([37.53767979, 10.80317246]), array([37.17232021,  8.83682754])],\n",
       " [array([35.76664671,  2.82787501]), array([33.79335329,  2.50212499])],\n",
       " [array([34.74071022, 13.51154164]), array([36.24928978, 12.19845836])],\n",
       " [array([37.25947306, 13.33288388]), array([38.72052694, 11.96711612])],\n",
       " [array([40.03907156, 11.40996525]), array([38.75092844,  9.88003475])],\n",
       " [array([36.16643243, 12.90653293]), array([36.88356757, 13.60346707])],\n",
       " [array([39.81681299, 14.07976207]), array([39.77318701, 12.08023793])],\n",
       " [array([37.4453062, 14.1447449]), array([39.4446938, 14.0952551])],\n",
       " [array([36.57329843, 12.79071438]), array([37.33670157, 14.63928562])],\n",
       " [array([40.20011535, 11.05981188]), array([42.19988465, 11.09018812])],\n",
       " [array([39.59592094,  1.60637367]), array([37.71407906,  2.28362633])],\n",
       " [array([37.74347118, 14.41595808]), array([38.87652882, 16.06404192])],\n",
       " [array([37.96537279, 14.77867453]), array([37.69462721, 15.74132547])],\n",
       " [array([36.6939265 , 14.28413938]), array([36.3060735 , 15.20586062])]]"
      ]
     },
     "execution_count": 4,
     "metadata": {},
     "output_type": "execute_result"
    }
   ],
   "source": [
    "barreras"
   ]
  },
  {
   "cell_type": "code",
   "execution_count": 5,
   "id": "54c2be20",
   "metadata": {},
   "outputs": [
    {
     "name": "stdout",
     "output_type": "stream",
     "text": [
      "[[38.24, 20.42, 0.27185872864243604], [39.57, 26.15, 0.5100422523211281], [40.56, 25.32, 0.15202659659529055], [36.26, 23.12, 0.088924054792834], [33.48, 10.54, 0.17514258044520803], [37.56, 12.19, 0.013939893069633095], [38.42, 13.11, 0.014138935683519071], [37.52, 20.44, 0.2807982622416276], [41.23, 9.1, 0.3808268696741671], [41.17, 13.05, 0.049275075800199304], [36.08, -5.21, 0.8859569931235163], [38.47, 15.13, 0.010908534422183563], [38.15, 15.35, 0.194164878389479], [37.51, 15.17, 0.03930415790613939], [35.49, 14.32, 0.034395043554476555], [39.36, 19.56, 0.008138760766158265]]\n"
     ]
    }
   ],
   "source": [
    "Circles = []\n",
    "bolas = []\n",
    "\n",
    "def ve(punto, segmento):\n",
    "    barrera1 = [punto, segmento[0]]\n",
    "    flag1 = all([no_cortan(barrera1, barrera) for barrera in barreras])\n",
    "    barrera2 = [punto, segmento[1]]\n",
    "    flag2 = all([no_cortan(barrera2, barrera) for barrera in barreras])\n",
    "\n",
    "    return flag1 | flag2\n",
    "\n",
    "for v in V:\n",
    "\n",
    "    r_min = min([interseccion_long(v, barrera) for barrera in barreras if ve(v, barrera)])\n",
    "    upper_bound = min(r_min, min([d_PB(v, barrera) for barrera in barreras]))\n",
    "    radii = np.random.uniform(upper_bound, upper_bound)\n",
    "    Circles.append(Circle(center = v, radii = radii))\n",
    "    bolas.append([v[0], v[1], radii])\n",
    "    \n",
    "print(bolas)"
   ]
  },
  {
   "cell_type": "code",
   "execution_count": 6,
   "id": "88bf4570",
   "metadata": {},
   "outputs": [
    {
     "data": {
      "image/png": "[encoded data removed]",
      "text/plain": [
       "<Figure size 432x288 with 1 Axes>"
      ]
     },
     "metadata": {
      "needs_background": "light"
     },
     "output_type": "display_data"
    }
   ],
   "source": [
    "fig, ax = plt.subplots()\n",
    "\n",
    "for x, y, r in bolas:\n",
    "    ax.scatter(x, y, s = 100*r)\n",
    "\n",
    "for b in barreras:\n",
    "    ax.plot([b[0][0], b[1][0]], [b[0][1], b[1][1]], c = 'red')\n",
    "    \n",
    "ax.set_aspect('equal')"
   ]
  },
  {
   "cell_type": "code",
   "execution_count": 7,
   "id": "6c7777f3",
   "metadata": {},
   "outputs": [],
   "source": [
    "# # De forma aleatoria\n",
    "# r_init = 1\n",
    "\n",
    "# np.random.seed(1)\n",
    "# def genera_separacion_aleatoria(punto1, punto2, r):\n",
    "#     param = np.random.uniform(0, 1)\n",
    "#     p_int = param*np.array(punto1) + (1-param)*np.array(punto2)\n",
    "#     theta1 = np.random.uniform(0, 2*np.pi)\n",
    "#     theta2 = np.random.uniform(0, 2*np.pi)\n",
    "#     P1 = p_int + np.array([r*np.cos(theta1), r*np.sin(theta1)])\n",
    "#     P2 = p_int + np.array([r*np.cos(theta2), r*np.sin(theta2)])\n",
    "    \n",
    "#     return P1, P2\n",
    "    \n",
    "# barreras = []\n",
    "# for i in range(10):\n",
    "#     # print(i)\n",
    "#     for punto1 in V:\n",
    "#         for punto2 in V:\n",
    "#             if any(punto1 != punto2):\n",
    "#                 if all([no_cortan([punto1, punto2], barrera) for barrera in barreras]):\n",
    "#                     r = r_init\n",
    "#                     P1, P2 = genera_separacion_aleatoria(punto1, punto2, r)\n",
    "#                     while any([not(no_cortan([P1, P2], barrera)) for barrera in barreras]):\n",
    "#                         r = r / 2\n",
    "#                         # print(r)\n",
    "#                         P1, P2 = genera_separacion_aleatoria(punto1, punto2, r)\n",
    "#                     barreras.append([P1, P2])\n",
    "\n",
    "#                     Circles = []\n",
    "# bolas = []\n",
    "\n",
    "# def ve(punto, segmento):\n",
    "#     barrera1 = [punto, segmento[0]]\n",
    "#     flag1 = all([no_cortan(barrera1, barrera) for barrera in barreras])\n",
    "#     barrera2 = [punto, segmento[1]]\n",
    "#     flag2 = all([no_cortan(barrera2, barrera) for barrera in barreras])\n",
    "\n",
    "#     return flag1 | flag2\n",
    "\n",
    "# for v in V:\n",
    "\n",
    "#     r_min = min([interseccion_long(v, barrera) for barrera in barreras if ve(v, barrera)])\n",
    "#     upper_bound = min([d_PB(v, barrera) for barrera in barreras if ve(v, barrera)])\n",
    "#     radii = np.random.uniform(upper_bound, upper_bound)\n",
    "#     Circles.append(Circle(center = v, radii = radii))\n",
    "#     bolas.append([v[0], v[1], radii])"
   ]
  },
  {
   "cell_type": "code",
   "execution_count": 8,
   "id": "ac58847f",
   "metadata": {},
   "outputs": [],
   "source": [
    "# fig, ax = plt.subplots()\n",
    "\n",
    "# for x, y, r in bolas:\n",
    "#     ax.scatter(x, y, s = 100*r)\n",
    "\n",
    "# for b in barreras:\n",
    "#     ax.plot([b[0][0], b[1][0]], [b[0][1], b[1][1]], c = 'red')\n",
    "    \n",
    "# # ax.set_aspect('equal')"
   ]
  },
  {
   "cell_type": "code",
   "execution_count": 9,
   "id": "6f84be51",
   "metadata": {},
   "outputs": [],
   "source": [
    "from tspn_b import tspn_b"
   ]
  },
  {
   "cell_type": "code",
   "execution_count": null,
   "id": "32e84931",
   "metadata": {},
   "outputs": [
    {
     "name": "stdout",
     "output_type": "stream",
     "text": [
      "Set parameter Username\n",
      "Academic license - for non-commercial use only - expires 2023-09-02\n",
      "Set parameter Threads to value 6\n",
      "Set parameter TimeLimit to value 600\n",
      "Set parameter NumericFocus to value 1\n",
      "Gurobi Optimizer version 9.5.2 build v9.5.2rc0 (win64)\n",
      "Thread count: 8 physical cores, 16 logical processors, using up to 6 threads\n",
      "Optimize a model with 743947 rows, 588390 columns and 1371494 nonzeros\n",
      "Model fingerprint: 0x8c19a9df\n",
      "Model has 1824 quadratic constraints\n",
      "Variable types: 12786 continuous, 575604 integer (575604 binary)\n",
      "Coefficient statistics:\n",
      "  Matrix range     [6e-03, 1e+03]\n",
      "  QMatrix range    [1e+00, 1e+00]\n",
      "  Objective range  [1e+00, 1e+00]\n",
      "  Bounds range     [1e+00, 1e+00]\n",
      "  RHS range        [8e-03, 2e+03]\n",
      "Presolve removed 722641 rows and 572412 columns\n",
      "Presolve time: 0.43s\n",
      "\n",
      "Explored 0 nodes (0 simplex iterations) in 0.56 seconds (0.40 work units)\n",
      "Thread count was 1 (of 16 available processors)\n",
      "\n",
      "Solution count 0\n",
      "\n",
      "Model is infeasible\n",
      "Best objective -, best bound -, gap -\n",
      "\n",
      "Computing Irreducible Inconsistent Subsystem (IIS)...\n",
      "\n",
      "           Constraints          |            Bounds           |  Runtime\n",
      "      Min       Max     Guess   |   Min       Max     Guess   |\n",
      "--------------------------------------------------------------------------\n",
      "        0    462023         -         0     12802         -           0s\n",
      "        0    374226         -         0      7227         -           5s\n",
      "        0    245531         -         0      5664         -          11s\n",
      "        0    245531         -         0      5664         -          17s\n",
      "        0    161094         -         0      3993         -          21s\n",
      "        0    130487         -         0      3216         -          26s\n",
      "        0     85615         -         0      2044         -          31s\n",
      "        0     45502         -         0      1141         -          36s\n",
      "        0     29855         -         0       730         -          40s\n",
      "        0     12854         -         0       320         -          46s\n"
     ]
    }
   ],
   "source": [
    "resultados = tspn_b(barreras, Circles, A4 = True, dominant=False, prepro=True, log=False, picture=True, time_limit=600, init = False)"
   ]
  },
  {
   "cell_type": "code",
   "execution_count": null,
   "id": "1248cd15",
   "metadata": {},
   "outputs": [],
   "source": []
  }
 ],
 "metadata": {
  "kernelspec": {
   "display_name": "Python 3 (ipykernel)",
   "language": "python",
   "name": "python3"
  },
  "language_info": {
   "codemirror_mode": {
    "name": "ipython",
    "version": 3
   },
   "file_extension": ".py",
   "mimetype": "text/x-python",
   "name": "python",
   "nbconvert_exporter": "python",
   "pygments_lexer": "ipython3",
   "version": "3.8.10"
  }
 },
 "nbformat": 4,
 "nbformat_minor": 5
}
